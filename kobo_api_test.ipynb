{
 "cells": [
  {
   "cell_type": "code",
   "execution_count": 1,
   "id": "515e9a36",
   "metadata": {},
   "outputs": [],
   "source": [
    "import requests\n",
    "import json"
   ]
  },
  {
   "cell_type": "code",
   "execution_count": 15,
   "id": "506fa39a",
   "metadata": {},
   "outputs": [],
   "source": [
    "res = requests.get('https://kobo.humanitarianresponse.info/api/v2/assets.json/', auth=('manojappalla','Zekrom1997'))"
   ]
  },
  {
   "cell_type": "code",
   "execution_count": 16,
   "id": "c418af38",
   "metadata": {},
   "outputs": [
    {
     "data": {
      "text/plain": [
       "{'count': 1,\n",
       " 'next': None,\n",
       " 'previous': None,\n",
       " 'results': [{'url': 'https://kobo.humanitarianresponse.info/api/v2/assets/aumGeYCKpLmoK6jkcDgcUv.json',\n",
       "   'date_modified': '2022-05-19T10:29:05.247679Z',\n",
       "   'date_created': '2022-05-19T10:29:02.465619Z',\n",
       "   'owner': 'https://kobo.humanitarianresponse.info/api/v2/users/manojappalla.json',\n",
       "   'summary': {'geo': True,\n",
       "    'labels': ['Point Location',\n",
       "     'Enter the name of the building',\n",
       "     'What is the type of the building?',\n",
       "     'Choose the image of the building'],\n",
       "    'columns': ['type', 'label', 'required', 'name', 'select_from_list_name'],\n",
       "    'lock_all': False,\n",
       "    'lock_any': False,\n",
       "    'languages': [None],\n",
       "    'row_count': 4,\n",
       "    'default_translation': None},\n",
       "   'owner__username': 'manojappalla',\n",
       "   'parent': None,\n",
       "   'uid': 'aumGeYCKpLmoK6jkcDgcUv',\n",
       "   'tag_string': '',\n",
       "   'settings': {},\n",
       "   'kind': 'asset',\n",
       "   'name': 'iirs_buildings',\n",
       "   'asset_type': 'survey',\n",
       "   'version_id': 'vDCfPUQT7njfwTKn6GzuD5',\n",
       "   'has_deployment': True,\n",
       "   'deployed_version_id': 'vDCfPUQT7njfwTKn6GzuD5',\n",
       "   'deployment__identifier': 'https://kc.humanitarianresponse.info/manojappalla/forms/aumGeYCKpLmoK6jkcDgcUv',\n",
       "   'deployment__active': True,\n",
       "   'deployment__submission_count': 2,\n",
       "   'permissions': [{'url': 'https://kobo.humanitarianresponse.info/api/v2/assets/aumGeYCKpLmoK6jkcDgcUv/permission-assignments/pXTQZ5VnUqqcrKAEAnvDjT/',\n",
       "     'user': 'https://kobo.humanitarianresponse.info/api/v2/users/AnonymousUser.json',\n",
       "     'permission': 'https://kobo.humanitarianresponse.info/api/v2/permissions/view_asset.json',\n",
       "     'label': 'View form'},\n",
       "    {'url': 'https://kobo.humanitarianresponse.info/api/v2/assets/aumGeYCKpLmoK6jkcDgcUv/permission-assignments/pBmi2DWfx99afaqJxThPUv/',\n",
       "     'user': 'https://kobo.humanitarianresponse.info/api/v2/users/AnonymousUser.json',\n",
       "     'permission': 'https://kobo.humanitarianresponse.info/api/v2/permissions/view_submissions.json',\n",
       "     'label': 'View submissions'},\n",
       "    {'url': 'https://kobo.humanitarianresponse.info/api/v2/assets/aumGeYCKpLmoK6jkcDgcUv/permission-assignments/pTXKW4xYjmbaNKzkwcjUtD/',\n",
       "     'user': 'https://kobo.humanitarianresponse.info/api/v2/users/manojappalla.json',\n",
       "     'permission': 'https://kobo.humanitarianresponse.info/api/v2/permissions/add_submissions.json',\n",
       "     'label': 'Add submissions'},\n",
       "    {'url': 'https://kobo.humanitarianresponse.info/api/v2/assets/aumGeYCKpLmoK6jkcDgcUv/permission-assignments/po2BV6UQNeczyad6AjQsqG/',\n",
       "     'user': 'https://kobo.humanitarianresponse.info/api/v2/users/manojappalla.json',\n",
       "     'permission': 'https://kobo.humanitarianresponse.info/api/v2/permissions/change_asset.json',\n",
       "     'label': 'Edit form'},\n",
       "    {'url': 'https://kobo.humanitarianresponse.info/api/v2/assets/aumGeYCKpLmoK6jkcDgcUv/permission-assignments/p6Y8uhNEB3tYkxu6adA7hW/',\n",
       "     'user': 'https://kobo.humanitarianresponse.info/api/v2/users/manojappalla.json',\n",
       "     'permission': 'https://kobo.humanitarianresponse.info/api/v2/permissions/change_submissions.json',\n",
       "     'label': 'Edit submissions'},\n",
       "    {'url': 'https://kobo.humanitarianresponse.info/api/v2/assets/aumGeYCKpLmoK6jkcDgcUv/permission-assignments/pXftKihv7KCddFmvxeFu5u/',\n",
       "     'user': 'https://kobo.humanitarianresponse.info/api/v2/users/manojappalla.json',\n",
       "     'permission': 'https://kobo.humanitarianresponse.info/api/v2/permissions/delete_submissions.json',\n",
       "     'label': 'Delete submissions'},\n",
       "    {'url': 'https://kobo.humanitarianresponse.info/api/v2/assets/aumGeYCKpLmoK6jkcDgcUv/permission-assignments/p4x8aUPqVxJe5ZsSkBz4ri/',\n",
       "     'user': 'https://kobo.humanitarianresponse.info/api/v2/users/manojappalla.json',\n",
       "     'permission': 'https://kobo.humanitarianresponse.info/api/v2/permissions/manage_asset.json',\n",
       "     'label': 'Manage project'},\n",
       "    {'url': 'https://kobo.humanitarianresponse.info/api/v2/assets/aumGeYCKpLmoK6jkcDgcUv/permission-assignments/pLMzGq9Usjre8tUF7wv7zX/',\n",
       "     'user': 'https://kobo.humanitarianresponse.info/api/v2/users/manojappalla.json',\n",
       "     'permission': 'https://kobo.humanitarianresponse.info/api/v2/permissions/validate_submissions.json',\n",
       "     'label': 'Validate submissions'},\n",
       "    {'url': 'https://kobo.humanitarianresponse.info/api/v2/assets/aumGeYCKpLmoK6jkcDgcUv/permission-assignments/p4Kpf8DkgFiXpjsfYTrDxV/',\n",
       "     'user': 'https://kobo.humanitarianresponse.info/api/v2/users/manojappalla.json',\n",
       "     'permission': 'https://kobo.humanitarianresponse.info/api/v2/permissions/view_asset.json',\n",
       "     'label': 'View form'},\n",
       "    {'url': 'https://kobo.humanitarianresponse.info/api/v2/assets/aumGeYCKpLmoK6jkcDgcUv/permission-assignments/pXwQSpNox2DeFNftwYS6Fe/',\n",
       "     'user': 'https://kobo.humanitarianresponse.info/api/v2/users/manojappalla.json',\n",
       "     'permission': 'https://kobo.humanitarianresponse.info/api/v2/permissions/view_submissions.json',\n",
       "     'label': 'View submissions'}],\n",
       "   'export_settings': [],\n",
       "   'downloads': [{'format': 'xls',\n",
       "     'url': 'https://kobo.humanitarianresponse.info/api/v2/assets/aumGeYCKpLmoK6jkcDgcUv.xls'},\n",
       "    {'format': 'xml',\n",
       "     'url': 'https://kobo.humanitarianresponse.info/api/v2/assets/aumGeYCKpLmoK6jkcDgcUv.xml'}],\n",
       "   'data': 'https://kobo.humanitarianresponse.info/api/v2/assets/aumGeYCKpLmoK6jkcDgcUv/data.json',\n",
       "   'subscribers_count': 0,\n",
       "   'status': 'public',\n",
       "   'access_types': None,\n",
       "   'children': {'count': 0},\n",
       "   'data_sharing': {}}]}"
      ]
     },
     "execution_count": 16,
     "metadata": {},
     "output_type": "execute_result"
    }
   ],
   "source": [
    "res.json()"
   ]
  },
  {
   "cell_type": "code",
   "execution_count": 10,
   "id": "38adf427",
   "metadata": {},
   "outputs": [
    {
     "data": {
      "text/plain": [
       "{'count': 2,\n",
       " 'next': None,\n",
       " 'previous': None,\n",
       " 'results': [{'_id': 287975056,\n",
       "   'formhub/uuid': 'c7d9c7ac524048e29c5642e80a884ad5',\n",
       "   'Point_Location': '30.340749 78.0468528 658.0 4.575',\n",
       "   'Name': 'Golden Jubilee Hostel',\n",
       "   'Type': '1',\n",
       "   'Image': '1652958234702.jpg',\n",
       "   '__version__': 'vDCfPUQT7njfwTKn6GzuD5',\n",
       "   'meta/instanceID': 'uuid:c4f49418-2f60-46c5-9d3e-b401a6d88c46',\n",
       "   '_xform_id_string': 'aumGeYCKpLmoK6jkcDgcUv',\n",
       "   '_uuid': 'c4f49418-2f60-46c5-9d3e-b401a6d88c46',\n",
       "   '_attachments': [{'download_url': 'https://kobo.humanitarianresponse.info/api/v2/assets/aumGeYCKpLmoK6jkcDgcUv/data/287975056/attachments/110174390/',\n",
       "     'download_large_url': 'https://kobo.humanitarianresponse.info/api/v2/assets/aumGeYCKpLmoK6jkcDgcUv/data/287975056/attachments/110174390/',\n",
       "     'download_medium_url': 'https://kobo.humanitarianresponse.info/api/v2/assets/aumGeYCKpLmoK6jkcDgcUv/data/287975056/attachments/110174390/',\n",
       "     'download_small_url': 'https://kobo.humanitarianresponse.info/api/v2/assets/aumGeYCKpLmoK6jkcDgcUv/data/287975056/attachments/110174390/',\n",
       "     'mimetype': 'image/jpeg',\n",
       "     'filename': 'manojappalla/attachments/c7d9c7ac524048e29c5642e80a884ad5/c4f49418-2f60-46c5-9d3e-b401a6d88c46/1652958234702.jpg',\n",
       "     'instance': 287975056,\n",
       "     'xform': 1085792,\n",
       "     'id': 110174390}],\n",
       "   '_status': 'submitted_via_web',\n",
       "   '_geolocation': [30.340749, 78.0468528],\n",
       "   '_submission_time': '2022-05-19T11:04:23',\n",
       "   '_tags': [],\n",
       "   '_notes': [],\n",
       "   '_validation_status': {},\n",
       "   '_submitted_by': None},\n",
       "  {'_id': 288073326,\n",
       "   'formhub/uuid': 'c7d9c7ac524048e29c5642e80a884ad5',\n",
       "   'Point_Location': '30.3409331 78.0463009 658.2000122070312 4.95',\n",
       "   'Name': 'Central Dining Facility ',\n",
       "   'Type': '2',\n",
       "   'Image': '1652971179666.jpg',\n",
       "   '__version__': 'vDCfPUQT7njfwTKn6GzuD5',\n",
       "   'meta/instanceID': 'uuid:689449f0-07c1-4aa0-93c6-d347f00b6823',\n",
       "   '_xform_id_string': 'aumGeYCKpLmoK6jkcDgcUv',\n",
       "   '_uuid': '689449f0-07c1-4aa0-93c6-d347f00b6823',\n",
       "   '_attachments': [{'download_url': 'https://kobo.humanitarianresponse.info/api/v2/assets/aumGeYCKpLmoK6jkcDgcUv/data/288073326/attachments/110212139/',\n",
       "     'download_large_url': 'https://kobo.humanitarianresponse.info/api/v2/assets/aumGeYCKpLmoK6jkcDgcUv/data/288073326/attachments/110212139/',\n",
       "     'download_medium_url': 'https://kobo.humanitarianresponse.info/api/v2/assets/aumGeYCKpLmoK6jkcDgcUv/data/288073326/attachments/110212139/',\n",
       "     'download_small_url': 'https://kobo.humanitarianresponse.info/api/v2/assets/aumGeYCKpLmoK6jkcDgcUv/data/288073326/attachments/110212139/',\n",
       "     'mimetype': 'image/jpeg',\n",
       "     'filename': 'manojappalla/attachments/c7d9c7ac524048e29c5642e80a884ad5/689449f0-07c1-4aa0-93c6-d347f00b6823/1652971179666.jpg',\n",
       "     'instance': 288073326,\n",
       "     'xform': 1085792,\n",
       "     'id': 110212139}],\n",
       "   '_status': 'submitted_via_web',\n",
       "   '_geolocation': [30.3409331, 78.0463009],\n",
       "   '_submission_time': '2022-05-19T14:41:04',\n",
       "   '_tags': [],\n",
       "   '_notes': [],\n",
       "   '_validation_status': {},\n",
       "   '_submitted_by': None}]}"
      ]
     },
     "execution_count": 10,
     "metadata": {},
     "output_type": "execute_result"
    }
   ],
   "source": [
    "res = requests.get('https://kobo.humanitarianresponse.info/api/v2/assets/aumGeYCKpLmoK6jkcDgcUv/data.json/')\n",
    "res.json()"
   ]
  },
  {
   "cell_type": "code",
   "execution_count": 19,
   "id": "d5853b4f",
   "metadata": {},
   "outputs": [
    {
     "data": {
      "text/plain": [
       "{'count': 0, 'next': None, 'previous': None, 'results': []}"
      ]
     },
     "execution_count": 19,
     "metadata": {},
     "output_type": "execute_result"
    }
   ],
   "source": [
    "res = requests.get('https://kobo.humanitarianresponse.info/exports/')\n",
    "res.json()"
   ]
  },
  {
   "cell_type": "code",
   "execution_count": null,
   "id": "ead48ab2",
   "metadata": {},
   "outputs": [],
   "source": []
  }
 ],
 "metadata": {
  "kernelspec": {
   "display_name": "Python 3 (ipykernel)",
   "language": "python",
   "name": "python3"
  },
  "language_info": {
   "codemirror_mode": {
    "name": "ipython",
    "version": 3
   },
   "file_extension": ".py",
   "mimetype": "text/x-python",
   "name": "python",
   "nbconvert_exporter": "python",
   "pygments_lexer": "ipython3",
   "version": "3.9.7"
  }
 },
 "nbformat": 4,
 "nbformat_minor": 5
}
